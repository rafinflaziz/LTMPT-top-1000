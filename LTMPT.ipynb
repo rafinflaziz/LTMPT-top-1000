{
 "cells": [
  {
   "cell_type": "markdown",
   "metadata": {},
   "source": [
    "## Scraping"
   ]
  },
  {
   "cell_type": "code",
   "execution_count": 1,
   "metadata": {},
   "outputs": [],
   "source": [
    "import requests\n",
    "from bs4 import BeautifulSoup\n",
    "\n",
    "# For each column, create empty list with size of 1000\n",
    "change = [None]*1000\n",
    "name = [None]*1000\n",
    "score = [None]*1000\n",
    "province = [None]*1000\n",
    "city = [None]*1000\n",
    "\n",
    "sch_type = [None]*1000\n",
    "\n",
    "# Scrap for 10 pages\n",
    "for n_page in range(1,11):\n",
    "\n",
    "    page = requests.get(\"https://top-1000-sekolah.ltmpt.ac.id/?page={}&per-page=100\".format(n_page))\n",
    "    soup = BeautifulSoup(page.content, \"html.parser\")\n",
    "\n",
    "    # Table for each school's score starts from the 9th row\n",
    "    rows = soup.find_all('td')[8:]\n",
    "\n",
    "    # Each row consists of 8 elements, so in each iterates there are 8 elements\n",
    "    for n in range(int(len(rows)/8)):\n",
    "        start = n * 8;\n",
    "        finish = start + 7;\n",
    "\n",
    "        # Here is the 8 elements\n",
    "        row = rows[start:finish + 1]\n",
    "\n",
    "        # Index in the columns for each page.\n",
    "        # Page 1: 0-99, page 2: 100-199, ...\n",
    "        n_index = n + (100 * (n_page - 1))\n",
    "\n",
    "        # change_sign is the type of change: ↑, ↓, or =\n",
    "        change_sign = row[1].i['class'][1]\n",
    "\n",
    "        # Get the text from each tag\n",
    "        for i in range(0, 8):\n",
    "            row[i] = row[i].get_text()\n",
    "\n",
    "        # downvote sign means that the rank of that particular school is decreasing from last year \n",
    "        if change_sign == \"bxs-downvote\":\n",
    "            row[1] = -int(row[1])\n",
    "            \n",
    "        # Get rid of \" More..\" in \"name\" column\n",
    "        row[3] = row[3][:-7]\n",
    "\n",
    "        # We don't need NPSN number in row[2] and \"rank\" in row[0]\n",
    "        indexes = list(range(8))\n",
    "        indexes.remove(2)\n",
    "        indexes.remove(0)\n",
    "\n",
    "        # Assign each information to the corresponding column\n",
    "        change[n_index], name[n_index], score[n_index], province[n_index], city[n_index], sch_type[n_index] = (row[i] for i in indexes)\n"
   ]
  },
  {
   "cell_type": "markdown",
   "metadata": {},
   "source": [
    "## Create dataframe and convert data type"
   ]
  },
  {
   "cell_type": "code",
   "execution_count": 2,
   "metadata": {},
   "outputs": [
    {
     "data": {
      "text/html": [
       "<div>\n",
       "<style scoped>\n",
       "    .dataframe tbody tr th:only-of-type {\n",
       "        vertical-align: middle;\n",
       "    }\n",
       "\n",
       "    .dataframe tbody tr th {\n",
       "        vertical-align: top;\n",
       "    }\n",
       "\n",
       "    .dataframe thead th {\n",
       "        text-align: right;\n",
       "    }\n",
       "</style>\n",
       "<table border=\"1\" class=\"dataframe\">\n",
       "  <thead>\n",
       "    <tr style=\"text-align: right;\">\n",
       "      <th></th>\n",
       "      <th>change</th>\n",
       "      <th>name</th>\n",
       "      <th>score</th>\n",
       "      <th>province</th>\n",
       "      <th>city</th>\n",
       "      <th>sch_type</th>\n",
       "    </tr>\n",
       "  </thead>\n",
       "  <tbody>\n",
       "    <tr>\n",
       "      <th>0</th>\n",
       "      <td>1</td>\n",
       "      <td>MAN INSAN CENDEKIA SERPONG</td>\n",
       "      <td>637,807</td>\n",
       "      <td>Banten</td>\n",
       "      <td>Kota Tangerang Selatan</td>\n",
       "      <td>MA</td>\n",
       "    </tr>\n",
       "    <tr>\n",
       "      <th>1</th>\n",
       "      <td>-1</td>\n",
       "      <td>SMAN UNGGULAN M.H. THAMRIN</td>\n",
       "      <td>635,675</td>\n",
       "      <td>DKI Jakarta</td>\n",
       "      <td>Kota Jakarta Timur</td>\n",
       "      <td>SMA</td>\n",
       "    </tr>\n",
       "    <tr>\n",
       "      <th>2</th>\n",
       "      <td>1</td>\n",
       "      <td>SMAN 8 JAKARTA</td>\n",
       "      <td>630,860</td>\n",
       "      <td>DKI Jakarta</td>\n",
       "      <td>Kota Jakarta Selatan</td>\n",
       "      <td>SMA</td>\n",
       "    </tr>\n",
       "    <tr>\n",
       "      <th>3</th>\n",
       "      <td>-1</td>\n",
       "      <td>SMAS UNGGUL DEL</td>\n",
       "      <td>630,177</td>\n",
       "      <td>Sumatera Utara</td>\n",
       "      <td>Kab. Toba Samosir</td>\n",
       "      <td>SMA</td>\n",
       "    </tr>\n",
       "    <tr>\n",
       "      <th>4</th>\n",
       "      <td>2</td>\n",
       "      <td>SMAS BPK 1 PENABUR BANDUNG</td>\n",
       "      <td>618,415</td>\n",
       "      <td>Jawa Barat</td>\n",
       "      <td>Kota Bandung</td>\n",
       "      <td>SMA</td>\n",
       "    </tr>\n",
       "    <tr>\n",
       "      <th>...</th>\n",
       "      <td>...</td>\n",
       "      <td>...</td>\n",
       "      <td>...</td>\n",
       "      <td>...</td>\n",
       "      <td>...</td>\n",
       "      <td>...</td>\n",
       "    </tr>\n",
       "    <tr>\n",
       "      <th>995</th>\n",
       "      <td>5</td>\n",
       "      <td>SMAN 1 NGAWEN</td>\n",
       "      <td>512,127</td>\n",
       "      <td>Jawa Tengah</td>\n",
       "      <td>Kab. Blora</td>\n",
       "      <td>SMA</td>\n",
       "    </tr>\n",
       "    <tr>\n",
       "      <th>996</th>\n",
       "      <td>4</td>\n",
       "      <td>SMAN 2 BREBES</td>\n",
       "      <td>512,108</td>\n",
       "      <td>Jawa Tengah</td>\n",
       "      <td>Kab. Brebes</td>\n",
       "      <td>SMA</td>\n",
       "    </tr>\n",
       "    <tr>\n",
       "      <th>997</th>\n",
       "      <td>3</td>\n",
       "      <td>SMAN 1 SAWAHLUNTO</td>\n",
       "      <td>512,083</td>\n",
       "      <td>Sumatera Barat</td>\n",
       "      <td>Kota Sawah Lunto</td>\n",
       "      <td>SMA</td>\n",
       "    </tr>\n",
       "    <tr>\n",
       "      <th>998</th>\n",
       "      <td>2</td>\n",
       "      <td>SMAN 1 PARUNG</td>\n",
       "      <td>512,076</td>\n",
       "      <td>Jawa Barat</td>\n",
       "      <td>Kab. Bogor</td>\n",
       "      <td>SMA</td>\n",
       "    </tr>\n",
       "    <tr>\n",
       "      <th>999</th>\n",
       "      <td>-131</td>\n",
       "      <td>SMAS PESANTREN TERPADU HAYATAN THAYYIBAH</td>\n",
       "      <td>512,071</td>\n",
       "      <td>Jawa Barat</td>\n",
       "      <td>Kota Sukabumi</td>\n",
       "      <td>SMA</td>\n",
       "    </tr>\n",
       "  </tbody>\n",
       "</table>\n",
       "<p>1000 rows × 6 columns</p>\n",
       "</div>"
      ],
      "text/plain": [
       "    change                                      name    score        province  \\\n",
       "0        1                MAN INSAN CENDEKIA SERPONG  637,807          Banten   \n",
       "1       -1                SMAN UNGGULAN M.H. THAMRIN  635,675     DKI Jakarta   \n",
       "2        1                            SMAN 8 JAKARTA  630,860     DKI Jakarta   \n",
       "3       -1                           SMAS UNGGUL DEL  630,177  Sumatera Utara   \n",
       "4        2                SMAS BPK 1 PENABUR BANDUNG  618,415      Jawa Barat   \n",
       "..     ...                                       ...      ...             ...   \n",
       "995      5                             SMAN 1 NGAWEN  512,127     Jawa Tengah   \n",
       "996      4                             SMAN 2 BREBES  512,108     Jawa Tengah   \n",
       "997      3                         SMAN 1 SAWAHLUNTO  512,083  Sumatera Barat   \n",
       "998      2                             SMAN 1 PARUNG  512,076      Jawa Barat   \n",
       "999   -131  SMAS PESANTREN TERPADU HAYATAN THAYYIBAH  512,071      Jawa Barat   \n",
       "\n",
       "                       city sch_type  \n",
       "0    Kota Tangerang Selatan      MA   \n",
       "1        Kota Jakarta Timur      SMA  \n",
       "2      Kota Jakarta Selatan      SMA  \n",
       "3         Kab. Toba Samosir      SMA  \n",
       "4              Kota Bandung      SMA  \n",
       "..                      ...      ...  \n",
       "995              Kab. Blora      SMA  \n",
       "996             Kab. Brebes      SMA  \n",
       "997        Kota Sawah Lunto      SMA  \n",
       "998              Kab. Bogor      SMA  \n",
       "999           Kota Sukabumi      SMA  \n",
       "\n",
       "[1000 rows x 6 columns]"
      ]
     },
     "execution_count": 2,
     "metadata": {},
     "output_type": "execute_result"
    }
   ],
   "source": [
    "import pandas as pd\n",
    "ltmpt = pd.DataFrame({\n",
    "    \"change\": change,\n",
    "    \"name\":name,\n",
    "    \"score\":score,\n",
    "    \"province\":province,\n",
    "    \"city\":city,\n",
    "    \"sch_type\":sch_type,\n",
    "})\n",
    "ltmpt"
   ]
  },
  {
   "cell_type": "code",
   "execution_count": 3,
   "metadata": {},
   "outputs": [
    {
     "name": "stdout",
     "output_type": "stream",
     "text": [
      "<class 'pandas.core.frame.DataFrame'>\n",
      "RangeIndex: 1000 entries, 0 to 999\n",
      "Data columns (total 6 columns):\n",
      " #   Column    Non-Null Count  Dtype \n",
      "---  ------    --------------  ----- \n",
      " 0   change    1000 non-null   object\n",
      " 1   name      1000 non-null   object\n",
      " 2   score     1000 non-null   object\n",
      " 3   province  1000 non-null   object\n",
      " 4   city      1000 non-null   object\n",
      " 5   sch_type  1000 non-null   object\n",
      "dtypes: object(6)\n",
      "memory usage: 47.0+ KB\n"
     ]
    }
   ],
   "source": [
    "ltmpt.info()"
   ]
  },
  {
   "cell_type": "code",
   "execution_count": 4,
   "metadata": {},
   "outputs": [],
   "source": [
    "# Convert some columns to numeric value\n",
    "ltmpt['change'] = pd.to_numeric(ltmpt['change']).fillna(0)\n",
    "\n",
    "ltmpt['score'] = ltmpt['score'].str.replace(\",\", \".\")\n",
    "ltmpt['score'] = pd.to_numeric(ltmpt['score']).fillna(0)"
   ]
  },
  {
   "cell_type": "code",
   "execution_count": 5,
   "metadata": {},
   "outputs": [
    {
     "data": {
      "text/html": [
       "<div>\n",
       "<style scoped>\n",
       "    .dataframe tbody tr th:only-of-type {\n",
       "        vertical-align: middle;\n",
       "    }\n",
       "\n",
       "    .dataframe tbody tr th {\n",
       "        vertical-align: top;\n",
       "    }\n",
       "\n",
       "    .dataframe thead th {\n",
       "        text-align: right;\n",
       "    }\n",
       "</style>\n",
       "<table border=\"1\" class=\"dataframe\">\n",
       "  <thead>\n",
       "    <tr style=\"text-align: right;\">\n",
       "      <th></th>\n",
       "      <th>change</th>\n",
       "      <th>name</th>\n",
       "      <th>score</th>\n",
       "      <th>province</th>\n",
       "      <th>city</th>\n",
       "      <th>sch_type</th>\n",
       "    </tr>\n",
       "  </thead>\n",
       "  <tbody>\n",
       "    <tr>\n",
       "      <th>0</th>\n",
       "      <td>1.0</td>\n",
       "      <td>MAN INSAN CENDEKIA SERPONG</td>\n",
       "      <td>637.807</td>\n",
       "      <td>Banten</td>\n",
       "      <td>Kota Tangerang Selatan</td>\n",
       "      <td>MA</td>\n",
       "    </tr>\n",
       "    <tr>\n",
       "      <th>1</th>\n",
       "      <td>-1.0</td>\n",
       "      <td>SMAN UNGGULAN M.H. THAMRIN</td>\n",
       "      <td>635.675</td>\n",
       "      <td>DKI Jakarta</td>\n",
       "      <td>Kota Jakarta Timur</td>\n",
       "      <td>SMA</td>\n",
       "    </tr>\n",
       "    <tr>\n",
       "      <th>2</th>\n",
       "      <td>1.0</td>\n",
       "      <td>SMAN 8 JAKARTA</td>\n",
       "      <td>630.860</td>\n",
       "      <td>DKI Jakarta</td>\n",
       "      <td>Kota Jakarta Selatan</td>\n",
       "      <td>SMA</td>\n",
       "    </tr>\n",
       "    <tr>\n",
       "      <th>3</th>\n",
       "      <td>-1.0</td>\n",
       "      <td>SMAS UNGGUL DEL</td>\n",
       "      <td>630.177</td>\n",
       "      <td>Sumatera Utara</td>\n",
       "      <td>Kab. Toba Samosir</td>\n",
       "      <td>SMA</td>\n",
       "    </tr>\n",
       "    <tr>\n",
       "      <th>4</th>\n",
       "      <td>2.0</td>\n",
       "      <td>SMAS BPK 1 PENABUR BANDUNG</td>\n",
       "      <td>618.415</td>\n",
       "      <td>Jawa Barat</td>\n",
       "      <td>Kota Bandung</td>\n",
       "      <td>SMA</td>\n",
       "    </tr>\n",
       "    <tr>\n",
       "      <th>5</th>\n",
       "      <td>0.0</td>\n",
       "      <td>SMAS 1 KRISTEN BPK PENABUR</td>\n",
       "      <td>617.214</td>\n",
       "      <td>DKI Jakarta</td>\n",
       "      <td>Kota Jakarta Barat</td>\n",
       "      <td>SMA</td>\n",
       "    </tr>\n",
       "    <tr>\n",
       "      <th>6</th>\n",
       "      <td>5.0</td>\n",
       "      <td>SMAN 3 YOGYAKARTA</td>\n",
       "      <td>616.584</td>\n",
       "      <td>DI Yogyakarta</td>\n",
       "      <td>Kota Yogyakarta</td>\n",
       "      <td>SMA</td>\n",
       "    </tr>\n",
       "  </tbody>\n",
       "</table>\n",
       "</div>"
      ],
      "text/plain": [
       "   change                        name    score        province  \\\n",
       "0     1.0  MAN INSAN CENDEKIA SERPONG  637.807          Banten   \n",
       "1    -1.0  SMAN UNGGULAN M.H. THAMRIN  635.675     DKI Jakarta   \n",
       "2     1.0              SMAN 8 JAKARTA  630.860     DKI Jakarta   \n",
       "3    -1.0             SMAS UNGGUL DEL  630.177  Sumatera Utara   \n",
       "4     2.0  SMAS BPK 1 PENABUR BANDUNG  618.415      Jawa Barat   \n",
       "5     0.0  SMAS 1 KRISTEN BPK PENABUR  617.214     DKI Jakarta   \n",
       "6     5.0           SMAN 3 YOGYAKARTA  616.584   DI Yogyakarta   \n",
       "\n",
       "                     city sch_type  \n",
       "0  Kota Tangerang Selatan      MA   \n",
       "1      Kota Jakarta Timur      SMA  \n",
       "2    Kota Jakarta Selatan      SMA  \n",
       "3       Kab. Toba Samosir      SMA  \n",
       "4            Kota Bandung      SMA  \n",
       "5      Kota Jakarta Barat      SMA  \n",
       "6         Kota Yogyakarta      SMA  "
      ]
     },
     "execution_count": 5,
     "metadata": {},
     "output_type": "execute_result"
    }
   ],
   "source": [
    "ltmpt.head(7)"
   ]
  },
  {
   "cell_type": "markdown",
   "metadata": {},
   "source": [
    "## Visualization and Insight"
   ]
  },
  {
   "cell_type": "markdown",
   "metadata": {},
   "source": [
    "### What type of school that dominates the top 1000?"
   ]
  },
  {
   "cell_type": "code",
   "execution_count": 40,
   "metadata": {},
   "outputs": [
    {
     "data": {
      "image/png": "[encoded data removed]",
      "text/plain": [
       "<Figure size 432x288 with 1 Axes>"
      ]
     },
     "metadata": {
      "needs_background": "light"
     },
     "output_type": "display_data"
    }
   ],
   "source": [
    "import matplotlib.pyplot as plt\n",
    "import seaborn as sns\n",
    "\n",
    "sns.countplot(data=ltmpt, x=sch_type, order=ltmpt['sch_type'].value_counts().index)\n",
    "plt.show()"
   ]
  },
  {
   "cell_type": "markdown",
   "metadata": {},
   "source": [
    "In the top 1000 UTBK score, SMA is dominating for over 80% of the data. This seems okay, because SMA itself is the most common high-school type in Indonesia. Also, SMK and MA have different purpose than SMA that generally wants their students to continue their education. In SMK, for example, students are prepared to get employed as soon as they are graduated."
   ]
  },
  {
   "cell_type": "markdown",
   "metadata": {},
   "source": [
    "### What province dominates the top 1000? A picture of how education is unequally distributed in Indonesia"
   ]
  },
  {
   "cell_type": "code",
   "execution_count": 50,
   "metadata": {},
   "outputs": [
    {
     "data": {
      "image/png": "[encoded data removed]",
      "text/plain": [
       "<Figure size 864x720 with 1 Axes>"
      ]
     },
     "metadata": {
      "needs_background": "light"
     },
     "output_type": "display_data"
    }
   ],
   "source": [
    "plt.figure(figsize=(12, 10))\n",
    "sns.countplot(data=ltmpt, y='province', orientation='horizontal', order=ltmpt['province'].value_counts().index, color=\"tab:blue\")\n",
    "plt.title(\"Number of school in each province\")\n",
    "plt.ylabel(\"Province\")\n",
    "plt.show()"
   ]
  },
  {
   "cell_type": "markdown",
   "metadata": {},
   "source": [
    "Notice that there are only 6 provinces in Java island, and they dominate the top 1000 UTBK out of 30 provinces included.\n",
    "This suggests a extreme unequally distributed education in Indonesia, with most people received better education in Java island.\n",
    "\n",
    "Also notice that there are 34 provinces in Indonesia, but there are only 30 provinces included in this data:"
   ]
  },
  {
   "cell_type": "code",
   "execution_count": 56,
   "metadata": {},
   "outputs": [
    {
     "name": "stdout",
     "output_type": "stream",
     "text": [
      "Number of provinces in this data: 30\n"
     ]
    }
   ],
   "source": [
    "print(\"Number of provinces in this data:\", len(ltmpt['province'].unique()))"
   ]
  },
  {
   "cell_type": "markdown",
   "metadata": {},
   "source": [
    "Which means that all school from 4 provinces don't make it to the top 1000. These provinces are **Sulawesi Barat, Sulawesi Utara, Maluku Utara, and Papua**. These provinces come from the east side of Indonesia. You probably have heard of this issue before, that education in the \"eastern\" is rarely get attention."
   ]
  },
  {
   "cell_type": "markdown",
   "metadata": {},
   "source": [
    "### What province has the highest average score?"
   ]
  },
  {
   "cell_type": "code",
   "execution_count": 48,
   "metadata": {
    "scrolled": true
   },
   "outputs": [
    {
     "data": {
      "image/png": "[encoded data removed]",
      "text/plain": [
       "<Figure size 864x720 with 1 Axes>"
      ]
     },
     "metadata": {
      "needs_background": "light"
     },
     "output_type": "display_data"
    }
   ],
   "source": [
    "ltmpt_province = ltmpt.groupby(\"province\")[\"score\"].agg(\"mean\").sort_values(ascending=False)\n",
    "\n",
    "plt.figure(figsize=(12, 10))\n",
    "\n",
    "sns.barplot(x=ltmpt_province.values, y=ltmpt_province.index, color='tab:blue')\n",
    "plt.title\n",
    "plt.show()"
   ]
  },
  {
   "cell_type": "markdown",
   "metadata": {},
   "source": [
    "**Whoah!** Why Gorontalo is far beyond other provinces, even DKI Jakarta? Is there something wrong?\n",
    "\n",
    "**Here is why:**"
   ]
  },
  {
   "cell_type": "code",
   "execution_count": 44,
   "metadata": {},
   "outputs": [
    {
     "data": {
      "text/html": [
       "<div>\n",
       "<style scoped>\n",
       "    .dataframe tbody tr th:only-of-type {\n",
       "        vertical-align: middle;\n",
       "    }\n",
       "\n",
       "    .dataframe tbody tr th {\n",
       "        vertical-align: top;\n",
       "    }\n",
       "\n",
       "    .dataframe thead th {\n",
       "        text-align: right;\n",
       "    }\n",
       "</style>\n",
       "<table border=\"1\" class=\"dataframe\">\n",
       "  <thead>\n",
       "    <tr style=\"text-align: right;\">\n",
       "      <th></th>\n",
       "      <th>change</th>\n",
       "      <th>name</th>\n",
       "      <th>score</th>\n",
       "      <th>province</th>\n",
       "      <th>city</th>\n",
       "      <th>sch_type</th>\n",
       "    </tr>\n",
       "  </thead>\n",
       "  <tbody>\n",
       "    <tr>\n",
       "      <th>24</th>\n",
       "      <td>11.0</td>\n",
       "      <td>MAN Insan Cendekia Gorontalo</td>\n",
       "      <td>597.665</td>\n",
       "      <td>Gorontalo</td>\n",
       "      <td>Kab. Bone Bolango</td>\n",
       "      <td>MA</td>\n",
       "    </tr>\n",
       "  </tbody>\n",
       "</table>\n",
       "</div>"
      ],
      "text/plain": [
       "    change                          name    score   province  \\\n",
       "24    11.0  MAN Insan Cendekia Gorontalo  597.665  Gorontalo   \n",
       "\n",
       "                 city sch_type  \n",
       "24  Kab. Bone Bolango      MA   "
      ]
     },
     "execution_count": 44,
     "metadata": {},
     "output_type": "execute_result"
    }
   ],
   "source": [
    "ltmpt[ltmpt['province'] == \"Gorontalo\"]"
   ]
  },
  {
   "cell_type": "markdown",
   "metadata": {},
   "source": [
    "There are only a school in Gorontalo which makes it to the top 1000!\n",
    "\n",
    "That is why Gorontalo is #1 in term of average score of provinces. They averaged their only school, and that is an exceptional school, which is an **outlier!**\n",
    "\n",
    "So, how can we resolve this?\n",
    "\n",
    "Well, there are some options, but I will simply choose province that have at least 10 school in the top 1000.\n",
    "\n",
    "Here is the result:"
   ]
  },
  {
   "cell_type": "code",
   "execution_count": 60,
   "metadata": {},
   "outputs": [
    {
     "data": {
      "image/png": "[encoded data removed]",
      "text/plain": [
       "<Figure size 864x720 with 1 Axes>"
      ]
     },
     "metadata": {
      "needs_background": "light"
     },
     "output_type": "display_data"
    }
   ],
   "source": [
    "prov_count = ltmpt['province'].value_counts()\n",
    "prov_list = prov_count[prov_count.values > 10].index\n",
    "\n",
    "ltmpt_filtered = ltmpt[ltmpt['province'].isin(prov_list)]\n",
    "ltmpt_province = ltmpt_filtered.groupby(\"province\")[\"score\"].agg(\"mean\").sort_values(ascending=False)\n",
    "\n",
    "plt.figure(figsize=(12, 10))\n",
    "\n",
    "sns.barplot(x=ltmpt_province.values, y=ltmpt_province.index, color='tab:blue')\n",
    "plt.title\n",
    "plt.show()"
   ]
  },
  {
   "cell_type": "markdown",
   "metadata": {},
   "source": [
    "Well, in terms of average score, there is no big difference between provinces.\n",
    "\n",
    "Don't forget that the score data comes from top 1000 school. Therefore only school with high score will be calculated here, which makes the average score is high and less difference between provinces."
   ]
  }
 ],
 "metadata": {
  "interpreter": {
   "hash": "0662843c727e5642917048825818764ef4403f52d009fb701729e29293d070ae"
  },
  "kernelspec": {
   "display_name": "Python 3",
   "language": "python",
   "name": "python3"
  },
  "language_info": {
   "codemirror_mode": {
    "name": "ipython",
    "version": 3
   },
   "file_extension": ".py",
   "mimetype": "text/x-python",
   "name": "python",
   "nbconvert_exporter": "python",
   "pygments_lexer": "ipython3",
   "version": "3.8.8"
  }
 },
 "nbformat": 4,
 "nbformat_minor": 2
}
